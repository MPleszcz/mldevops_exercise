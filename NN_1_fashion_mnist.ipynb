{
 "cells": [
  {
   "cell_type": "markdown",
   "metadata": {},
   "source": [
    "# Simple neural network for fashionMNIST"
   ]
  },
  {
   "cell_type": "code",
   "execution_count": 1,
   "metadata": {
    "executionInfo": {
     "elapsed": 6006,
     "status": "ok",
     "timestamp": 1728937165897,
     "user": {
      "displayName": "Michał Pleszczyński",
      "userId": "12650955617853637156"
     },
     "user_tz": -120
    },
    "id": "Zx1SkoWIpI7Q"
   },
   "outputs": [],
   "source": [
    "import torch\n",
    "import torch.nn as nn\n",
    "import torchvision\n",
    "import matplotlib.pyplot as plt\n",
    "\n",
    "# preparing train and test data\n",
    "transform_data = torchvision.transforms.ToTensor()\n",
    "train_data = torchvision.datasets.FashionMNIST(\"./data\", train=True, download=True, transform=transform_data)\n",
    "test_data = torchvision.datasets.FashionMNIST(\"./data\", train=False, download=True, transform=transform_data)\n",
    "\n",
    "# creating data loaders to load data during training and testing\n",
    "train_loader = torch.utils.data.DataLoader(dataset=train_data, batch_size=128, shuffle=True)\n",
    "test_loader = torch.utils.data.DataLoader(dataset=test_data, batch_size=128, shuffle=False)"
   ]
  },
  {
   "cell_type": "code",
   "execution_count": 2,
   "metadata": {
    "executionInfo": {
     "elapsed": 16,
     "status": "ok",
     "timestamp": 1728937165897,
     "user": {
      "displayName": "Michał Pleszczyński",
      "userId": "12650955617853637156"
     },
     "user_tz": -120
    },
    "id": "wvTcCEbae-Dy"
   },
   "outputs": [],
   "source": [
    "# basic nn model for classifying data\n",
    "class BasicNetwork(nn.Module):\n",
    "    def __init__(self):\n",
    "        super(BasicNetwork, self).__init__()\n",
    "        self.flatten = nn.Flatten()\n",
    "        self.linear_stack = nn.Sequential(\n",
    "            nn.Linear(28 * 28, 512), nn.ReLU(), nn.Linear(512, 128), nn.ReLU(), nn.Linear(128, 10)\n",
    "        )\n",
    "\n",
    "    def forward(self, x):\n",
    "        x = self.flatten(x)\n",
    "        output = self.linear_stack(x)\n",
    "        return output"
   ]
  },
  {
   "cell_type": "code",
   "execution_count": 3,
   "metadata": {
    "executionInfo": {
     "elapsed": 14,
     "status": "ok",
     "timestamp": 1728937165898,
     "user": {
      "displayName": "Michał Pleszczyński",
      "userId": "12650955617853637156"
     },
     "user_tz": -120
    },
    "id": "UBw8zTUqhHZk"
   },
   "outputs": [],
   "source": [
    "# initializing model, loss function and optimizer\n",
    "model = BasicNetwork()\n",
    "loss_function = torch.nn.CrossEntropyLoss()\n",
    "optimizer = torch.optim.RMSprop(model.parameters(), lr=0.001)"
   ]
  },
  {
   "cell_type": "code",
   "execution_count": 4,
   "metadata": {
    "colab": {
     "base_uri": "https://localhost:8080/"
    },
    "executionInfo": {
     "elapsed": 14,
     "status": "ok",
     "timestamp": 1728937165899,
     "user": {
      "displayName": "Michał Pleszczyński",
      "userId": "12650955617853637156"
     },
     "user_tz": -120
    },
    "id": "y0KFpUnoi_R_",
    "outputId": "95002d78-bd3f-4e5a-cea9-d0531edce55a"
   },
   "outputs": [
    {
     "name": "stdout",
     "output_type": "stream",
     "text": [
      "cuda:0\n"
     ]
    },
    {
     "data": {
      "text/plain": [
       "BasicNetwork(\n",
       "  (flatten): Flatten(start_dim=1, end_dim=-1)\n",
       "  (linear_stack): Sequential(\n",
       "    (0): Linear(in_features=784, out_features=512, bias=True)\n",
       "    (1): ReLU()\n",
       "    (2): Linear(in_features=512, out_features=128, bias=True)\n",
       "    (3): ReLU()\n",
       "    (4): Linear(in_features=128, out_features=10, bias=True)\n",
       "  )\n",
       ")"
      ]
     },
     "execution_count": 4,
     "metadata": {},
     "output_type": "execute_result"
    }
   ],
   "source": [
    "# passing the model to GPU if available\n",
    "device = torch.device(\"cuda:0\" if torch.cuda.is_available() else \"cpu\")\n",
    "print(device)\n",
    "model.to(device)"
   ]
  },
  {
   "cell_type": "code",
   "execution_count": 5,
   "metadata": {
    "colab": {
     "base_uri": "https://localhost:8080/"
    },
    "executionInfo": {
     "elapsed": 68204,
     "status": "ok",
     "timestamp": 1728937234093,
     "user": {
      "displayName": "Michał Pleszczyński",
      "userId": "12650955617853637156"
     },
     "user_tz": -120
    },
    "id": "JU2Uj1dGjIKs",
    "outputId": "49be5d44-a8e0-4efc-98f4-c84d7e8d15c6"
   },
   "outputs": [
    {
     "name": "stdout",
     "output_type": "stream",
     "text": [
      "Epoch 0/4\n",
      "loss: 0.3467884063720703\n",
      "Epoch 1/4\n",
      "loss: 0.36181876063346863\n",
      "Epoch 2/4\n",
      "loss: 0.2842600643634796\n",
      "Epoch 3/4\n",
      "loss: 0.28965091705322266\n",
      "Epoch 4/4\n",
      "loss: 0.2090463489294052\n"
     ]
    }
   ],
   "source": [
    "# training the model\n",
    "epochs = 5\n",
    "losses = []\n",
    "for epoch in range(epochs):\n",
    "    for images, labels in train_loader:\n",
    "        images = images.to(device)\n",
    "        labels = labels.to(device)\n",
    "        outputs = model(images)\n",
    "        loss = loss_function(outputs, labels)\n",
    "        losses.append(loss.cpu().data.item())\n",
    "\n",
    "        optimizer.zero_grad()\n",
    "        loss.backward()\n",
    "        optimizer.step()\n",
    "    print(f\"Epoch {epoch}/{epochs-1}\")\n",
    "    print(f\"loss: {loss}\")"
   ]
  },
  {
   "cell_type": "code",
   "execution_count": 6,
   "metadata": {
    "id": "zkGizj5lsjEx"
   },
   "outputs": [],
   "source": [
    "PATH = \"./basic_network.pth\"\n",
    "torch.save(model.state_dict(), PATH)"
   ]
  },
  {
   "cell_type": "code",
   "execution_count": 7,
   "metadata": {
    "colab": {
     "base_uri": "https://localhost:8080/",
     "height": 495
    },
    "executionInfo": {
     "elapsed": 354,
     "status": "ok",
     "timestamp": 1728937234439,
     "user": {
      "displayName": "Michał Pleszczyński",
      "userId": "12650955617853637156"
     },
     "user_tz": -120
    },
    "id": "452cYioMjiVI",
    "outputId": "54a681ec-9486-4c3f-e0fb-95fae03b55ac"
   },
   "outputs": [
    {
     "data": {
      "text/plain": [
       "[<matplotlib.lines.Line2D at 0x758e1d9be550>]"
      ]
     },
     "execution_count": 7,
     "metadata": {},
     "output_type": "execute_result"
    },
    {
     "data": {
      "image/png": "[encoded data removed]",
      "text/plain": [
       "<Figure size 640x480 with 1 Axes>"
      ]
     },
     "metadata": {},
     "output_type": "display_data"
    }
   ],
   "source": [
    "# plot of the loss value over all iterations\n",
    "plt.style.use(\"fivethirtyeight\")\n",
    "plt.xlabel(\"Iterations\")\n",
    "plt.ylabel(\"Loss\")\n",
    "plt.plot(losses[:])"
   ]
  },
  {
   "cell_type": "markdown",
   "metadata": {},
   "source": [
    "# Evaluating model"
   ]
  },
  {
   "cell_type": "code",
   "execution_count": 13,
   "metadata": {
    "id": "6qXhKyrAsySa"
   },
   "outputs": [
    {
     "data": {
      "text/plain": [
       "BasicNetwork(\n",
       "  (flatten): Flatten(start_dim=1, end_dim=-1)\n",
       "  (linear_stack): Sequential(\n",
       "    (0): Linear(in_features=784, out_features=512, bias=True)\n",
       "    (1): ReLU()\n",
       "    (2): Linear(in_features=512, out_features=128, bias=True)\n",
       "    (3): ReLU()\n",
       "    (4): Linear(in_features=128, out_features=10, bias=True)\n",
       "  )\n",
       ")"
      ]
     },
     "execution_count": 13,
     "metadata": {},
     "output_type": "execute_result"
    }
   ],
   "source": [
    "model = BasicNetwork()\n",
    "model.load_state_dict(torch.load(PATH, weights_only=True))\n",
    "model.to(device)"
   ]
  },
  {
   "cell_type": "code",
   "execution_count": 14,
   "metadata": {
    "colab": {
     "base_uri": "https://localhost:8080/"
    },
    "executionInfo": {
     "elapsed": 1679,
     "status": "ok",
     "timestamp": 1728937236113,
     "user": {
      "displayName": "Michał Pleszczyński",
      "userId": "12650955617853637156"
     },
     "user_tz": -120
    },
    "id": "jYpq51tljlHT",
    "outputId": "52d1ffd9-57c6-4c4d-e215-e1cea7ef9e21"
   },
   "outputs": [
    {
     "name": "stdout",
     "output_type": "stream",
     "text": [
      "Accuracy: 0.878\n"
     ]
    }
   ],
   "source": [
    "# evaluating the model using test data\n",
    "model.eval()\n",
    "correct = 0\n",
    "total = 0\n",
    "with torch.no_grad():\n",
    "    for data in test_loader:\n",
    "        images, labels = data[0].to(device), data[1].to(device)\n",
    "        outputs = model(images)\n",
    "        _, predicted = torch.max(outputs.data, 1)\n",
    "        total += labels.size(0)\n",
    "        correct += (predicted == labels).sum().item()\n",
    "\n",
    "print(f\"Accuracy: {correct/total}\")"
   ]
  },
  {
   "cell_type": "code",
   "execution_count": 15,
   "metadata": {
    "colab": {
     "base_uri": "https://localhost:8080/",
     "height": 460
    },
    "executionInfo": {
     "elapsed": 19,
     "status": "ok",
     "timestamp": 1728937236114,
     "user": {
      "displayName": "Michał Pleszczyński",
      "userId": "12650955617853637156"
     },
     "user_tz": -120
    },
    "id": "4CvoTTXslbeP",
    "outputId": "f1b3fd50-c253-4497-82ed-bedf80ae54b1"
   },
   "outputs": [
    {
     "name": "stdout",
     "output_type": "stream",
     "text": [
      "Class: 9\n",
      "Predicted: tensor([9], device='cuda:0')\n"
     ]
    },
    {
     "data": {
      "image/png": "[encoded data removed]",
      "text/plain": [
       "<Figure size 640x480 with 1 Axes>"
      ]
     },
     "metadata": {},
     "output_type": "display_data"
    }
   ],
   "source": [
    "# example prediction\n",
    "image_tensor, label = train_data[0]\n",
    "with torch.no_grad():\n",
    "    outputs = model(image_tensor.to(device))\n",
    "\n",
    "plt.imshow(image_tensor[0, :, :], cmap=\"gray\")\n",
    "plt.axis(\"off\")\n",
    "print(f\"Class: {label}\\nPredicted: {torch.max(outputs, 1).indices}\")"
   ]
  },
  {
   "cell_type": "markdown",
   "metadata": {
    "id": "D9Ep9qjIlkeF"
   },
   "source": [
    "| Label | Class |\n",
    "|---|---|\n",
    "| 0 |\tT-shirt/top |\n",
    "| 1 |\tTrouser |\n",
    "| 2 |\tPullover |\n",
    "| 3 |\tDress |\n",
    "| 4 |\tCoat |\n",
    "| 5 |\tSandal |\n",
    "| 6 |\tShirt |\n",
    "| 7 |\tSneaker |\n",
    "| 8 |\tBag |\n",
    "| 9 |\tAnkle boot |"
   ]
  }
 ],
 "metadata": {
  "accelerator": "GPU",
  "colab": {
   "authorship_tag": "ABX9TyOV/Jd1OBrU2TmlSe5bOyJc",
   "gpuType": "T4",
   "provenance": []
  },
  "kernelspec": {
   "display_name": "base",
   "language": "python",
   "name": "python3"
  },
  "language_info": {
   "codemirror_mode": {
    "name": "ipython",
    "version": 3
   },
   "file_extension": ".py",
   "mimetype": "text/x-python",
   "name": "python",
   "nbconvert_exporter": "python",
   "pygments_lexer": "ipython3",
   "version": "3.11.10"
  }
 },
 "nbformat": 4,
 "nbformat_minor": 0
}
