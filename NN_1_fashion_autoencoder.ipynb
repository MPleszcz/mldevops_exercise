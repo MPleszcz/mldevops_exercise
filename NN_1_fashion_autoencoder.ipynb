{
 "cells": [
  {
   "cell_type": "code",
   "execution_count": 1,
   "metadata": {
    "executionInfo": {
     "elapsed": 302,
     "status": "ok",
     "timestamp": 1728931547383,
     "user": {
      "displayName": "Michał Pleszczyński",
      "userId": "12650955617853637156"
     },
     "user_tz": -120
    },
    "id": "2YMKxd1tgdrk"
   },
   "outputs": [],
   "source": [
    "import torch\n",
    "from torchvision import datasets, transforms\n",
    "import matplotlib.pyplot as plt\n",
    "\n",
    "# transforming data to tensor\n",
    "tensor_transform = transforms.ToTensor()\n",
    "\n",
    "# initializing datasets from FashionMNIST\n",
    "train_dataset = datasets.FashionMNIST(root=\"./data\", train=True, download=True, transform=tensor_transform)\n",
    "test_dataset = datasets.FashionMNIST(root=\"./data\", train=False, download=True, transform=tensor_transform)\n",
    "\n",
    "# creating data loaders to load data during training and testing\n",
    "train_loader = torch.utils.data.DataLoader(dataset=train_dataset, batch_size=32, shuffle=True)\n",
    "test_loader = torch.utils.data.DataLoader(dataset=test_dataset, batch_size=10, shuffle=False)"
   ]
  },
  {
   "cell_type": "code",
   "execution_count": 2,
   "metadata": {
    "executionInfo": {
     "elapsed": 11,
     "status": "ok",
     "timestamp": 1728931547689,
     "user": {
      "displayName": "Michał Pleszczyński",
      "userId": "12650955617853637156"
     },
     "user_tz": -120
    },
    "id": "J7Hz9U3PhKn6"
   },
   "outputs": [],
   "source": [
    "# basic autoencoder model, latent represenation size is 10\n",
    "class AE(torch.nn.Module):\n",
    "    def __init__(self):\n",
    "        super(AE, self).__init__()\n",
    "        # encoder part\n",
    "        self.encoder = torch.nn.Sequential(\n",
    "            torch.nn.Linear(28 * 28, 128),\n",
    "            torch.nn.ReLU(),\n",
    "            torch.nn.Linear(128, 64),\n",
    "            torch.nn.ReLU(),\n",
    "            torch.nn.Linear(64, 10),\n",
    "            torch.nn.ReLU(),\n",
    "        )\n",
    "        # decoder part\n",
    "        self.decoder = torch.nn.Sequential(\n",
    "            torch.nn.Linear(10, 64),\n",
    "            torch.nn.ReLU(),\n",
    "            torch.nn.Linear(64, 128),\n",
    "            torch.nn.ReLU(),\n",
    "            torch.nn.Linear(128, 28 * 28),\n",
    "            torch.nn.Sigmoid(),\n",
    "        )\n",
    "\n",
    "    def forward(self, x):\n",
    "        # flattening the input image\n",
    "        x = x.view(-1, 28 * 28)\n",
    "        encoded = self.encoder(x)\n",
    "        decoded = self.decoder(encoded)\n",
    "        # reshaping back to original dimensions\n",
    "        decoded = decoded.view(-1, 1, 28, 28)\n",
    "        return decoded"
   ]
  },
  {
   "cell_type": "code",
   "execution_count": 3,
   "metadata": {
    "executionInfo": {
     "elapsed": 10,
     "status": "ok",
     "timestamp": 1728931547689,
     "user": {
      "displayName": "Michał Pleszczyński",
      "userId": "12650955617853637156"
     },
     "user_tz": -120
    },
    "id": "kkVM9wr8hWeY"
   },
   "outputs": [],
   "source": [
    "# initializing model, loss function and optimizer\n",
    "model = AE()\n",
    "loss_function = torch.nn.MSELoss()\n",
    "optimizer = torch.optim.Adam(model.parameters(), lr=1e-3, weight_decay=1e-8)"
   ]
  },
  {
   "cell_type": "code",
   "execution_count": 4,
   "metadata": {
    "colab": {
     "base_uri": "https://localhost:8080/"
    },
    "executionInfo": {
     "elapsed": 10,
     "status": "ok",
     "timestamp": 1728931547690,
     "user": {
      "displayName": "Michał Pleszczyński",
      "userId": "12650955617853637156"
     },
     "user_tz": -120
    },
    "id": "RECZt_wPoIYb",
    "outputId": "73d6052a-bb13-4d61-c62d-b373d1d1d61b"
   },
   "outputs": [
    {
     "name": "stdout",
     "output_type": "stream",
     "text": [
      "cuda:0\n"
     ]
    },
    {
     "data": {
      "text/plain": [
       "AE(\n",
       "  (encoder): Sequential(\n",
       "    (0): Linear(in_features=784, out_features=128, bias=True)\n",
       "    (1): ReLU()\n",
       "    (2): Linear(in_features=128, out_features=64, bias=True)\n",
       "    (3): ReLU()\n",
       "    (4): Linear(in_features=64, out_features=10, bias=True)\n",
       "    (5): ReLU()\n",
       "  )\n",
       "  (decoder): Sequential(\n",
       "    (0): Linear(in_features=10, out_features=64, bias=True)\n",
       "    (1): ReLU()\n",
       "    (2): Linear(in_features=64, out_features=128, bias=True)\n",
       "    (3): ReLU()\n",
       "    (4): Linear(in_features=128, out_features=784, bias=True)\n",
       "    (5): Sigmoid()\n",
       "  )\n",
       ")"
      ]
     },
     "execution_count": 4,
     "metadata": {},
     "output_type": "execute_result"
    }
   ],
   "source": [
    "# passing the model to GPU if available\n",
    "device = torch.device(\"cuda:0\" if torch.cuda.is_available() else \"cpu\")\n",
    "print(device)\n",
    "model.to(device)"
   ]
  },
  {
   "cell_type": "code",
   "execution_count": 5,
   "metadata": {
    "colab": {
     "base_uri": "https://localhost:8080/"
    },
    "executionInfo": {
     "elapsed": 215259,
     "status": "ok",
     "timestamp": 1728931762942,
     "user": {
      "displayName": "Michał Pleszczyński",
      "userId": "12650955617853637156"
     },
     "user_tz": -120
    },
    "id": "HdpgDG94higQ",
    "outputId": "2e334c38-30a6-4084-97d5-15854238b78c"
   },
   "outputs": [
    {
     "name": "stdout",
     "output_type": "stream",
     "text": [
      "Epoch 0/19\n",
      "loss: 0.021670902147889137\n",
      "Epoch 1/19\n",
      "loss: 0.023119905963540077\n",
      "Epoch 2/19\n",
      "loss: 0.02061251737177372\n",
      "Epoch 3/19\n",
      "loss: 0.016592271625995636\n",
      "Epoch 4/19\n",
      "loss: 0.015873711556196213\n",
      "Epoch 5/19\n",
      "loss: 0.01597422920167446\n",
      "Epoch 6/19\n",
      "loss: 0.016098380088806152\n",
      "Epoch 7/19\n",
      "loss: 0.016015561297535896\n",
      "Epoch 8/19\n",
      "loss: 0.016448864713311195\n",
      "Epoch 9/19\n",
      "loss: 0.0137044508010149\n",
      "Epoch 10/19\n",
      "loss: 0.01478520780801773\n",
      "Epoch 11/19\n",
      "loss: 0.014354581013321877\n",
      "Epoch 12/19\n",
      "loss: 0.017679745331406593\n",
      "Epoch 13/19\n",
      "loss: 0.010880609042942524\n",
      "Epoch 14/19\n",
      "loss: 0.018506255000829697\n",
      "Epoch 15/19\n",
      "loss: 0.017157699912786484\n",
      "Epoch 16/19\n",
      "loss: 0.014333785511553288\n",
      "Epoch 17/19\n",
      "loss: 0.013962247408926487\n",
      "Epoch 18/19\n",
      "loss: 0.01609688811004162\n",
      "Epoch 19/19\n",
      "loss: 0.015709267929196358\n"
     ]
    }
   ],
   "source": [
    "# training the model\n",
    "epochs = 20\n",
    "losses = []\n",
    "for epoch in range(epochs):\n",
    "    for image, _ in train_loader:\n",
    "        image = image.to(device)\n",
    "        reconstructed = model(image)\n",
    "        loss = loss_function(reconstructed, image)\n",
    "        losses.append(loss.cpu().data.item())\n",
    "\n",
    "        optimizer.zero_grad()\n",
    "        loss.backward()\n",
    "        optimizer.step()\n",
    "    print(f\"Epoch {epoch}/{epochs-1}\")\n",
    "    print(f\"loss: {loss}\")"
   ]
  },
  {
   "cell_type": "code",
   "execution_count": 6,
   "metadata": {},
   "outputs": [],
   "source": [
    "PATH = \"./autoencoder.pth\"\n",
    "torch.save(model.state_dict(), PATH)"
   ]
  },
  {
   "cell_type": "code",
   "execution_count": 7,
   "metadata": {
    "colab": {
     "base_uri": "https://localhost:8080/",
     "height": 495
    },
    "executionInfo": {
     "elapsed": 712,
     "status": "ok",
     "timestamp": 1728932551678,
     "user": {
      "displayName": "Michał Pleszczyński",
      "userId": "12650955617853637156"
     },
     "user_tz": -120
    },
    "id": "MoNbXbz2qet5",
    "outputId": "2080677f-e612-4f06-aa8e-52f6c4a91e41"
   },
   "outputs": [
    {
     "data": {
      "text/plain": [
       "[<matplotlib.lines.Line2D at 0x7c7abe958d10>]"
      ]
     },
     "execution_count": 7,
     "metadata": {},
     "output_type": "execute_result"
    },
    {
     "data": {
      "image/png": "[encoded data removed]",
      "text/plain": [
       "<Figure size 640x480 with 1 Axes>"
      ]
     },
     "metadata": {},
     "output_type": "display_data"
    }
   ],
   "source": [
    "# plot of the loss value over all iterations\n",
    "plt.style.use(\"fivethirtyeight\")\n",
    "plt.xlabel(\"Iterations\")\n",
    "plt.ylabel(\"Loss\")\n",
    "plt.plot(losses[:])"
   ]
  },
  {
   "cell_type": "code",
   "execution_count": 8,
   "metadata": {},
   "outputs": [
    {
     "data": {
      "text/plain": [
       "AE(\n",
       "  (encoder): Sequential(\n",
       "    (0): Linear(in_features=784, out_features=128, bias=True)\n",
       "    (1): ReLU()\n",
       "    (2): Linear(in_features=128, out_features=64, bias=True)\n",
       "    (3): ReLU()\n",
       "    (4): Linear(in_features=64, out_features=10, bias=True)\n",
       "    (5): ReLU()\n",
       "  )\n",
       "  (decoder): Sequential(\n",
       "    (0): Linear(in_features=10, out_features=64, bias=True)\n",
       "    (1): ReLU()\n",
       "    (2): Linear(in_features=64, out_features=128, bias=True)\n",
       "    (3): ReLU()\n",
       "    (4): Linear(in_features=128, out_features=784, bias=True)\n",
       "    (5): Sigmoid()\n",
       "  )\n",
       ")"
      ]
     },
     "execution_count": 8,
     "metadata": {},
     "output_type": "execute_result"
    }
   ],
   "source": [
    "model = AE()\n",
    "model.load_state_dict(torch.load(PATH, weights_only=True))\n",
    "model.to(device)"
   ]
  },
  {
   "cell_type": "code",
   "execution_count": 9,
   "metadata": {
    "executionInfo": {
     "elapsed": 23,
     "status": "ok",
     "timestamp": 1728931762944,
     "user": {
      "displayName": "Michał Pleszczyński",
      "userId": "12650955617853637156"
     },
     "user_tz": -120
    },
    "id": "BufDVK2ATcic"
   },
   "outputs": [],
   "source": [
    "# evaluating the autoencoder with test data\n",
    "dataiter = iter(test_loader)\n",
    "images, labels = next(dataiter)\n",
    "images = images.to(device)\n",
    "with torch.no_grad():\n",
    "    output = model(images)"
   ]
  },
  {
   "cell_type": "code",
   "execution_count": 10,
   "metadata": {
    "colab": {
     "base_uri": "https://localhost:8080/",
     "height": 272
    },
    "executionInfo": {
     "elapsed": 666,
     "status": "ok",
     "timestamp": 1728931920735,
     "user": {
      "displayName": "Michał Pleszczyński",
      "userId": "12650955617853637156"
     },
     "user_tz": -120
    },
    "id": "ArgcODMrTqvj",
    "outputId": "2d2e4b81-e82f-44ef-f797-259475cee26a"
   },
   "outputs": [
    {
     "data": {
      "image/png": "[encoded data removed]",
      "text/plain": [
       "<Figure size 1400x300 with 20 Axes>"
      ]
     },
     "metadata": {},
     "output_type": "display_data"
    }
   ],
   "source": [
    "# plot of evaluation results\n",
    "fig, axes = plt.subplots(2, 10, figsize=(14, 3))\n",
    "for i in range(10):\n",
    "    axes[0, i].imshow(images[i].cpu().numpy().squeeze(), cmap=\"gray\")\n",
    "    axes[0, i].axis(\"off\")\n",
    "    axes[1, i].imshow(output[i].cpu().detach().numpy().squeeze(), cmap=\"gray\")\n",
    "    axes[1, i].axis(\"off\")\n",
    "plt.show()"
   ]
  }
 ],
 "metadata": {
  "accelerator": "GPU",
  "colab": {
   "authorship_tag": "ABX9TyOeu7A8jy4eYDZehqhLvuj2",
   "gpuType": "T4",
   "provenance": []
  },
  "kernelspec": {
   "display_name": "base",
   "language": "python",
   "name": "python3"
  },
  "language_info": {
   "codemirror_mode": {
    "name": "ipython",
    "version": 3
   },
   "file_extension": ".py",
   "mimetype": "text/x-python",
   "name": "python",
   "nbconvert_exporter": "python",
   "pygments_lexer": "ipython3",
   "version": "3.11.10"
  }
 },
 "nbformat": 4,
 "nbformat_minor": 0
}
